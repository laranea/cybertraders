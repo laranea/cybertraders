{
 "cells": [
  {
   "cell_type": "code",
   "execution_count": 225,
   "metadata": {
    "collapsed": true
   },
   "outputs": [],
   "source": [
    "from collections import deque\n",
    "from talib import SMA\n",
    "import numpy as np\n",
    "import matplotlib.pyplot as plt\n",
    "import pandas as pd"
   ]
  },
  {
   "cell_type": "markdown",
   "metadata": {},
   "source": [
    "Get the prices of for our assets"
   ]
  },
  {
   "cell_type": "code",
   "execution_count": 203,
   "metadata": {
    "collapsed": false
   },
   "outputs": [],
   "source": [
    "tickers = ['AAPL','MSFT','IBM','ABT','CSCO']\n",
    "p = get_pricing(tickers,'2005-01-01','2017-01-05')\n"
   ]
  },
  {
   "cell_type": "code",
   "execution_count": 204,
   "metadata": {
    "collapsed": false
   },
   "outputs": [
    {
     "data": {
      "text/plain": [
       "DatetimeIndex(['2005-01-03', '2005-01-04', '2005-01-05', '2005-01-06',\n",
       "               '2005-01-07', '2005-01-10', '2005-01-11', '2005-01-12',\n",
       "               '2005-01-13', '2005-01-14',\n",
       "               ...\n",
       "               '2016-12-21', '2016-12-22', '2016-12-23', '2016-12-27',\n",
       "               '2016-12-28', '2016-12-29', '2016-12-30', '2017-01-03',\n",
       "               '2017-01-04', '2017-01-05'],\n",
       "              dtype='datetime64[ns, UTC]', length=3024, freq='C')"
      ]
     },
     "execution_count": 204,
     "metadata": {},
     "output_type": "execute_result"
    }
   ],
   "source": [
    "p['price'].index"
   ]
  },
  {
   "cell_type": "markdown",
   "metadata": {},
   "source": [
    "#Implement Strategy"
   ]
  },
  {
   "cell_type": "code",
   "execution_count": 212,
   "metadata": {
    "collapsed": false,
    "scrolled": false
   },
   "outputs": [],
   "source": [
    "def get_result(col,a,b,p):\n",
    "    idx = p['price'].columns[col]\n",
    "\n",
    "    price = p.minor_xs(idx)['price']\n",
    "    smaA = price.rolling(a).mean()\n",
    "    smaB = price.rolling(b).mean()\n",
    "    sma_diff = smaA-smaB\n",
    "    signal = np.sign(sma_diff).diff()/2\n",
    "    pnl = (((price*signal).cumsum())-(price*signal.cumsum()))\n",
    "    return pnl\n"
   ]
  },
  {
   "cell_type": "code",
   "execution_count": 213,
   "metadata": {
    "collapsed": false
   },
   "outputs": [
    {
     "data": {
      "text/plain": [
       "32.578000000000003"
      ]
     },
     "execution_count": 213,
     "metadata": {},
     "output_type": "execute_result"
    }
   ],
   "source": [
    "plot_result(0,10,20).ix[-1]"
   ]
  },
  {
   "cell_type": "markdown",
   "metadata": {},
   "source": [
    "#Run Strategy for portfolio"
   ]
  },
  {
   "cell_type": "code",
   "execution_count": 215,
   "metadata": {
    "collapsed": false
   },
   "outputs": [
    {
     "data": {
      "text/plain": [
       "34.149999999999899"
      ]
     },
     "execution_count": 215,
     "metadata": {},
     "output_type": "execute_result"
    }
   ],
   "source": [
    "def portfolio(a,b,tickers,p):\n",
    "    portfolio_pnl = 0\n",
    "    for i in range(len(tickers)):\n",
    "        portfolio_pnl += get_result(i,a,b,p).ix[-1]\n",
    "    return portfolio_pnl\n",
    "\n",
    "portfolio(20,10,tickers,p)"
   ]
  },
  {
   "cell_type": "markdown",
   "metadata": {},
   "source": [
    "#Optimise Strategy parameters"
   ]
  },
  {
   "cell_type": "code",
   "execution_count": 219,
   "metadata": {
    "collapsed": false
   },
   "outputs": [
    {
     "data": {
      "text/plain": [
       "(array([    7.,     9.,     4.,     6.,     5.,     3.,    10.,    18.,\n",
       "           24.,    94.,   114.,   177.,   513.,   618.,   731.,   813.,\n",
       "         1084.,  1196.,  1054.,   890.,   658.,   321.,   183.,   145.,\n",
       "          205.,   209.,   379.,   256.,   222.,    52.]),\n",
       " array([-135.973 , -125.4959, -115.0188, -104.5417,  -94.0646,  -83.5875,\n",
       "         -73.1104,  -62.6333,  -52.1562,  -41.6791,  -31.202 ,  -20.7249,\n",
       "         -10.2478,    0.2293,   10.7064,   21.1835,   31.6606,   42.1377,\n",
       "          52.6148,   63.0919,   73.569 ,   84.0461,   94.5232,  105.0003,\n",
       "         115.4774,  125.9545,  136.4316,  146.9087,  157.3858,  167.8629,\n",
       "         178.34  ]),\n",
       " <a list of 30 Patch objects>)"
      ]
     },
     "execution_count": 219,
     "metadata": {},
     "output_type": "execute_result"
    },
    {
     "data": {
      "image/png": "[encoded data removed]",
      "text/plain": [
       "<matplotlib.figure.Figure at 0x7fb3761f82d0>"
      ]
     },
     "metadata": {},
     "output_type": "display_data"
    }
   ],
   "source": [
    "def optimise(tickers,p):\n",
    "    pnls = []\n",
    "    \n",
    "    for a in range(1000):\n",
    "        params = np.sort([np.random.randint(5,100),np.random.randint(5,100)])[::-1]\n",
    "        pnls.append(portfolio(params[0],params[1],tickers,p))\n",
    "    return pnls\n",
    "            \n",
    "pnls = optimise(tickers,p)\n",
    "plt.hist(pnls,30)"
   ]
  },
  {
   "cell_type": "code",
   "execution_count": 220,
   "metadata": {
    "collapsed": false
   },
   "outputs": [
    {
     "data": {
      "text/plain": [
       "54.195401099999984"
      ]
     },
     "execution_count": 220,
     "metadata": {},
     "output_type": "execute_result"
    }
   ],
   "source": [
    "np.mean(pnls)"
   ]
  },
  {
   "cell_type": "code",
   "execution_count": 221,
   "metadata": {
    "collapsed": false
   },
   "outputs": [
    {
     "data": {
      "text/plain": [
       "46.65590227438345"
      ]
     },
     "execution_count": 221,
     "metadata": {},
     "output_type": "execute_result"
    }
   ],
   "source": [
    "np.std(pnls)"
   ]
  },
  {
   "cell_type": "markdown",
   "metadata": {},
   "source": [
    "#PnL of equally weighted portfolio"
   ]
  },
  {
   "cell_type": "code",
   "execution_count": 267,
   "metadata": {
    "collapsed": false
   },
   "outputs": [],
   "source": [
    "def portfolio(a,b,tickers,p):\n",
    "    portfolio_pnls = []\n",
    "    for i in range(len(tickers)):\n",
    "        portfolio_pnls.append(get_result(i,a,b,p))\n",
    "    df = pd.DataFrame(portfolio_pnls).T\n",
    "    #df.plot()\n",
    "    return df\n",
    "\n",
    "df = portfolio(110,50,tickers,p)"
   ]
  },
  {
   "cell_type": "code",
   "execution_count": 268,
   "metadata": {
    "collapsed": false
   },
   "outputs": [
    {
     "data": {
      "text/plain": [
       "<matplotlib.axes._subplots.AxesSubplot at 0x7fb3664a88d0>"
      ]
     },
     "execution_count": 268,
     "metadata": {},
     "output_type": "execute_result"
    },
    {
     "data": {
      "image/png": "[encoded data removed]",
      "text/plain": [
       "<matplotlib.figure.Figure at 0x7fb36be35bd0>"
      ]
     },
     "metadata": {},
     "output_type": "display_data"
    }
   ],
   "source": [
    "df.sum(axis=1).plot()"
   ]
  },
  {
   "cell_type": "code",
   "execution_count": null,
   "metadata": {
    "collapsed": true
   },
   "outputs": [],
   "source": []
  }
 ],
 "metadata": {
  "kernelspec": {
   "display_name": "Python 2",
   "language": "python",
   "name": "python2"
  },
  "language_info": {
   "codemirror_mode": {
    "name": "ipython",
    "version": 2
   },
   "file_extension": ".py",
   "mimetype": "text/x-python",
   "name": "python",
   "nbconvert_exporter": "python",
   "pygments_lexer": "ipython2",
   "version": "2.7.12"
  }
 },
 "nbformat": 4,
 "nbformat_minor": 2
}