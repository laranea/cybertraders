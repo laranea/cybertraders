{
 "cells": [
  {
   "cell_type": "code",
   "execution_count": 1,
   "metadata": {
    "collapsed": false
   },
   "outputs": [],
   "source": [
    "import numpy as np\n",
    "import matplotlib.pyplot as plt"
   ]
  },
  {
   "cell_type": "code",
   "execution_count": 2,
   "metadata": {
    "collapsed": true
   },
   "outputs": [],
   "source": [
    "tickers = ['AAPL','MSFT','IBM']\n",
    "p = get_pricing(tickers,'2006-01-01','2011-01-01')"
   ]
  },
  {
   "cell_type": "code",
   "execution_count": 3,
   "metadata": {
    "collapsed": false
   },
   "outputs": [],
   "source": [
    "def calc_signals(tickers,p,a,b):\n",
    "    sma = p['price'].rolling(a).mean()\n",
    "    smb = p['price'].rolling(b).mean()\n",
    "    signal = np.sign(sma - smb).diff()\n",
    "    actual_signals = signal[signal!=0].dropna(how='all',axis=0)\n",
    "    for col in actual_signals.columns:\n",
    "        idx = actual_signals[col].first_valid_index()\n",
    "        signal[col][idx] = signal[col][idx]/2\n",
    "\n",
    "    return signal\n",
    "\n",
    "sig = calc_signals(tickers,p,10,20)\n",
    "\n"
   ]
  },
  {
   "cell_type": "code",
   "execution_count": 4,
   "metadata": {
    "collapsed": false
   },
   "outputs": [
    {
     "data": {
      "text/plain": [
       "301.3079999999999"
      ]
     },
     "execution_count": 4,
     "metadata": {},
     "output_type": "execute_result"
    }
   ],
   "source": [
    "def calc_pnl(sig,p):\n",
    "    return (sig*p['price']).sum()\n",
    "    \n",
    "calc_pnl(sig,p).sum()"
   ]
  },
  {
   "cell_type": "code",
   "execution_count": 5,
   "metadata": {
    "collapsed": false
   },
   "outputs": [],
   "source": [
    "def optimize(tickers,p,vals,N):\n",
    "    pnls = []\n",
    "    for i in range(N):\n",
    "        a = min(vals[i])\n",
    "        b = max(vals[i])\n",
    "        try:\n",
    "            sig = calc_signals(tickers,p,a,b)\n",
    "            pnls.append(calc_pnl(sig,p).sum())\n",
    "        except:\n",
    "            pnls.append(np.nan)\n",
    "    return pnls\n",
    "\n",
    "#N = 1000\n",
    "#vals = np.array([np.random.randint(10,100,(N,)),np.random.randint(10,100,(N,))]).T\n",
    "#pnls = optimize(tickers,p,vals,N)\n",
    "#plt.hist(pnls,40)"
   ]
  },
  {
   "cell_type": "code",
   "execution_count": 20,
   "metadata": {
    "collapsed": false
   },
   "outputs": [
    {
     "name": "stdout",
     "output_type": "stream",
     "text": [
      "5000 5000\n"
     ]
    }
   ],
   "source": [
    "N = 5000\n",
    "vals = np.array([np.random.randint(5,30,(N,)) for i in range(len(tickers))]).T\n",
    "p = get_pricing(tickers,'2006-01-01','2015-01-01')\n",
    "pnls1 = optimize(tickers,p,vals,N)\n",
    "p = get_pricing(tickers,'2015-01-01','2017-05-01')\n",
    "pnls2 = optimize(tickers,p,vals,N)\n",
    "\n",
    "print len(pnls1),len(pnls2)"
   ]
  },
  {
   "cell_type": "code",
   "execution_count": 21,
   "metadata": {
    "collapsed": false
   },
   "outputs": [
    {
     "data": {
      "text/plain": [
       "[<matplotlib.lines.Line2D at 0x7f2d957c2c90>]"
      ]
     },
     "execution_count": 21,
     "metadata": {},
     "output_type": "execute_result"
    },
    {
     "data": {
      "image/png": "[encoded data removed]",
      "text/plain": [
       "<matplotlib.figure.Figure at 0x7f2d97d08810>"
      ]
     },
     "metadata": {},
     "output_type": "display_data"
    }
   ],
   "source": [
    "plt.plot(pnls1,pnls2,'o')"
   ]
  },
  {
   "cell_type": "code",
   "execution_count": null,
   "metadata": {
    "collapsed": true
   },
   "outputs": [],
   "source": []
  }
 ],
 "metadata": {
  "kernelspec": {
   "display_name": "Python 2",
   "language": "python",
   "name": "python2"
  },
  "language_info": {
   "codemirror_mode": {
    "name": "ipython",
    "version": 2
   },
   "file_extension": ".py",
   "mimetype": "text/x-python",
   "name": "python",
   "nbconvert_exporter": "python",
   "pygments_lexer": "ipython2",
   "version": "2.7.12"
  }
 },
 "nbformat": 4,
 "nbformat_minor": 2
}